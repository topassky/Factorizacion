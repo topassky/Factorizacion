{
  "nbformat": 4,
  "nbformat_minor": 0,
  "metadata": {
    "colab": {
      "name": "Factorización.ipynb",
      "provenance": [],
      "collapsed_sections": [],
      "authorship_tag": "ABX9TyP0GKc96Ajz5mChdXP1NqJP",
      "include_colab_link": true
    },
    "kernelspec": {
      "name": "python3",
      "display_name": "Python 3"
    }
  },
  "cells": [
    {
      "cell_type": "markdown",
      "metadata": {
        "id": "view-in-github",
        "colab_type": "text"
      },
      "source": [
        "<a href=\"https://colab.research.google.com/github/topassky/Factorizacion/blob/master/Factorizaci%C3%B3n.ipynb\" target=\"_parent\"><img src=\"https://colab.research.google.com/assets/colab-badge.svg\" alt=\"Open In Colab\"/></a>"
      ]
    },
    {
      "cell_type": "markdown",
      "metadata": {
        "id": "oW4lRriiO4Wl",
        "colab_type": "text"
      },
      "source": [
        "**Factor Comun**\n",
        "\n",
        "\n"
      ]
    },
    {
      "cell_type": "code",
      "metadata": {
        "id": "x_J2UAf2O7ev",
        "colab_type": "code",
        "colab": {}
      },
      "source": [
        "from sympy import *"
      ],
      "execution_count": 0,
      "outputs": []
    },
    {
      "cell_type": "code",
      "metadata": {
        "id": "mL9u0bq_PYiX",
        "colab_type": "code",
        "colab": {}
      },
      "source": [
        "#Agrego las variables a utilizar\n",
        "x,y,a,b,c,d = symbols('x y a b c d') "
      ],
      "execution_count": 0,
      "outputs": []
    },
    {
      "cell_type": "code",
      "metadata": {
        "id": "2oFi5NkLPzk_",
        "colab_type": "code",
        "outputId": "2f636242-5455-4588-a5e5-aa20f84ccc50",
        "colab": {
          "base_uri": "https://localhost:8080/",
          "height": 34
        }
      },
      "source": [
        "# Ejemplo 1\n",
        "A= -4*x*(x + 1) + 3*y*(x + 1)\n",
        "factor(A)"
      ],
      "execution_count": 0,
      "outputs": [
        {
          "output_type": "execute_result",
          "data": {
            "text/plain": [
              "-(x + 1)*(4*x - 3*y)"
            ]
          },
          "metadata": {
            "tags": []
          },
          "execution_count": 21
        }
      ]
    },
    {
      "cell_type": "code",
      "metadata": {
        "id": "N5QtqZjYVlgb",
        "colab_type": "code",
        "outputId": "ef1ec705-4b9b-4cc8-bbd8-f32553133155",
        "colab": {
          "base_uri": "https://localhost:8080/",
          "height": 34
        }
      },
      "source": [
        "# Ejemplo 2\n",
        "B = a*c+b*c+a*d+b*d\n",
        "factor(B)"
      ],
      "execution_count": 0,
      "outputs": [
        {
          "output_type": "execute_result",
          "data": {
            "text/plain": [
              "(a + b)*(c + d)"
            ]
          },
          "metadata": {
            "tags": []
          },
          "execution_count": 20
        }
      ]
    },
    {
      "cell_type": "code",
      "metadata": {
        "id": "uI_ZZ3gtVzrF",
        "colab_type": "code",
        "outputId": "44c44ef3-0372-48cd-e34e-d47c816f9dea",
        "colab": {
          "base_uri": "https://localhost:8080/",
          "height": 34
        }
      },
      "source": [
        "# Ejemplo 3\n",
        "C= 2*a*x - 4*b*x + a*y -2*b*y\n",
        "factor(C)"
      ],
      "execution_count": 0,
      "outputs": [
        {
          "output_type": "execute_result",
          "data": {
            "text/plain": [
              "(a - 2*b)*(2*x + y)"
            ]
          },
          "metadata": {
            "tags": []
          },
          "execution_count": 22
        }
      ]
    },
    {
      "cell_type": "markdown",
      "metadata": {
        "id": "dtVtx62aW8wj",
        "colab_type": "text"
      },
      "source": [
        "**Diferencia de cuadrados**\n"
      ]
    },
    {
      "cell_type": "code",
      "metadata": {
        "id": "uAeHwsL1XEjr",
        "colab_type": "code",
        "outputId": "9c563a30-8fc5-4a0a-942b-f9ad1275217c",
        "colab": {
          "base_uri": "https://localhost:8080/",
          "height": 34
        }
      },
      "source": [
        "D = 1.0/9.0*x**2-4*y**2\n",
        "factor(D)"
      ],
      "execution_count": 0,
      "outputs": [
        {
          "output_type": "execute_result",
          "data": {
            "text/plain": [
              "1.0*(0.111111111111111*x - 0.666666666666667*y)*(0.111111111111111*x + 0.666666666666667*y)"
            ]
          },
          "metadata": {
            "tags": []
          },
          "execution_count": 34
        }
      ]
    },
    {
      "cell_type": "code",
      "metadata": {
        "id": "wGemk6gsk7hX",
        "colab_type": "code",
        "outputId": "da663480-c303-4533-fd1c-92232b0bd4fd",
        "colab": {
          "base_uri": "https://localhost:8080/",
          "height": 34
        }
      },
      "source": [
        "E = x**4-y**4\n",
        "factor(E)"
      ],
      "execution_count": 0,
      "outputs": [
        {
          "output_type": "execute_result",
          "data": {
            "text/plain": [
              "(x - y)*(x + y)*(x**2 + y**2)"
            ]
          },
          "metadata": {
            "tags": []
          },
          "execution_count": 35
        }
      ]
    },
    {
      "cell_type": "code",
      "metadata": {
        "id": "HjmItgURmhXw",
        "colab_type": "code",
        "outputId": "7adf004c-d663-46e4-a395-c0519a1f29ad",
        "colab": {
          "base_uri": "https://localhost:8080/",
          "height": 34
        }
      },
      "source": [
        "F = x**3*y**4-16*x*d**2\n",
        "factor(F)"
      ],
      "execution_count": 0,
      "outputs": [
        {
          "output_type": "execute_result",
          "data": {
            "text/plain": [
              "x*(-4*d + x*y**2)*(4*d + x*y**2)"
            ]
          },
          "metadata": {
            "tags": []
          },
          "execution_count": 36
        }
      ]
    },
    {
      "cell_type": "markdown",
      "metadata": {
        "id": "S4bHs0opptD_",
        "colab_type": "text"
      },
      "source": [
        "**Suma o diferencia de cubos**\n"
      ]
    },
    {
      "cell_type": "code",
      "metadata": {
        "id": "H_nrgmsdpx17",
        "colab_type": "code",
        "outputId": "859d04b1-9ab9-4ddf-be76-6e8abe56a6f9",
        "colab": {
          "base_uri": "https://localhost:8080/",
          "height": 34
        }
      },
      "source": [
        "G = x**3*y**3-y**3+8*x**3-8\n",
        "factor(G)"
      ],
      "execution_count": 0,
      "outputs": [
        {
          "output_type": "execute_result",
          "data": {
            "text/plain": [
              "(x - 1)*(y + 2)*(x**2 + x + 1)*(y**2 - 2*y + 4)"
            ]
          },
          "metadata": {
            "tags": []
          },
          "execution_count": 37
        }
      ]
    },
    {
      "cell_type": "markdown",
      "metadata": {
        "id": "kA-5W88iqrn1",
        "colab_type": "text"
      },
      "source": [
        "**Trinomio cuadrado perfecto**"
      ]
    },
    {
      "cell_type": "code",
      "metadata": {
        "id": "wtWc4uQdqvuB",
        "colab_type": "code",
        "outputId": "ce5bac4d-a167-42be-c778-90aafe465e46",
        "colab": {
          "base_uri": "https://localhost:8080/",
          "height": 34
        }
      },
      "source": [
        "H = 9*a**4 + 24*a**2*b**3 + 16*b**6\n",
        "factor(H)"
      ],
      "execution_count": 0,
      "outputs": [
        {
          "output_type": "execute_result",
          "data": {
            "text/plain": [
              "(3*a**2 + 4*b**3)**2"
            ]
          },
          "metadata": {
            "tags": []
          },
          "execution_count": 38
        }
      ]
    },
    {
      "cell_type": "markdown",
      "metadata": {
        "id": "dCFlc5l-tyI0",
        "colab_type": "text"
      },
      "source": [
        "**Trinomio de la forma** \n",
        "\n",
        "```\n",
        "x**2*n+b*x**n+c\n",
        "```\n",
        "\n",
        "\n",
        "\n",
        "\n",
        "\n"
      ]
    },
    {
      "cell_type": "code",
      "metadata": {
        "id": "u2BHmKIFt664",
        "colab_type": "code",
        "outputId": "9fdcc75f-eb60-4b86-e5f9-f1892c090465",
        "colab": {
          "base_uri": "https://localhost:8080/",
          "height": 34
        }
      },
      "source": [
        "I = x**2+7*x+10\n",
        "factor(I)"
      ],
      "execution_count": 0,
      "outputs": [
        {
          "output_type": "execute_result",
          "data": {
            "text/plain": [
              "(x + 2)*(x + 5)"
            ]
          },
          "metadata": {
            "tags": []
          },
          "execution_count": 39
        }
      ]
    },
    {
      "cell_type": "markdown",
      "metadata": {
        "id": "Zg3fXAYquaYi",
        "colab_type": "text"
      },
      "source": [
        "**Trinomio de la forma** \n",
        "\n",
        "```\n",
        "a*x**2*n+b*x**n+c\n",
        "```\n"
      ]
    },
    {
      "cell_type": "code",
      "metadata": {
        "id": "Jq2twchdudgl",
        "colab_type": "code",
        "outputId": "f83f149b-d502-4e78-eeca-82c4842bb55d",
        "colab": {
          "base_uri": "https://localhost:8080/",
          "height": 34
        }
      },
      "source": [
        "J = 2*x**2+7*x-15\n",
        "factor(J)\n"
      ],
      "execution_count": 0,
      "outputs": [
        {
          "output_type": "execute_result",
          "data": {
            "text/plain": [
              "(x + 5)*(2*x - 3)"
            ]
          },
          "metadata": {
            "tags": []
          },
          "execution_count": 40
        }
      ]
    },
    {
      "cell_type": "markdown",
      "metadata": {
        "id": "JmrGSSSVyP0c",
        "colab_type": "text"
      },
      "source": [
        "**Teorema del factor**"
      ]
    },
    {
      "cell_type": "code",
      "metadata": {
        "id": "_b0CQzc0yVF_",
        "colab_type": "code",
        "outputId": "bd245afc-5e3d-436b-a35e-5a0497125514",
        "colab": {
          "base_uri": "https://localhost:8080/",
          "height": 34
        }
      },
      "source": [
        "L = 2*x**3-11*x**2+12*x+9\n",
        "factor(L)"
      ],
      "execution_count": 0,
      "outputs": [
        {
          "output_type": "execute_result",
          "data": {
            "text/plain": [
              "(x - 3)**2*(2*x + 1)"
            ]
          },
          "metadata": {
            "tags": []
          },
          "execution_count": 43
        }
      ]
    },
    {
      "cell_type": "code",
      "metadata": {
        "id": "Q12vC9k6IKid",
        "colab_type": "code",
        "outputId": "e05232b1-6ac6-430e-88ab-bb168c115e6d",
        "colab": {
          "base_uri": "https://localhost:8080/",
          "height": 295
        }
      },
      "source": [
        "#Grafica\n",
        "import numpy as np\n",
        "import matplotlib.pyplot as plt\n",
        "x = np.linspace(-9,9,100)\n",
        "\n",
        "funcion = (lambda X : (X-3)*(X+3)*(X-1) )\n",
        "y = funcion(x)\n",
        "plt.plot(x,y,color = 'blue')\n",
        "plt.title('Grafico para el teorema del factor')\n",
        "plt.xlabel('Eje x')\n",
        "plt.ylabel('Eje y')\n",
        "plt.grid()\n",
        "plt.show()\n"
      ],
      "execution_count": 0,
      "outputs": [
        {
          "output_type": "display_data",
          "data": {
            "image/png": "[encoded data removed]",
            "text/plain": [
              "<Figure size 432x288 with 1 Axes>"
            ]
          },
          "metadata": {
            "tags": []
          }
        }
      ]
    },
    {
      "cell_type": "code",
      "metadata": {
        "id": "ayGzZkeLKAkC",
        "colab_type": "code",
        "colab": {}
      },
      "source": [
        ""
      ],
      "execution_count": 0,
      "outputs": []
    }
  ]
}